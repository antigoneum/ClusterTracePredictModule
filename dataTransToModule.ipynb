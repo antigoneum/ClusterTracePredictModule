{
 "cells": [
  {
   "cell_type": "code",
   "execution_count": 2,
   "metadata": {},
   "outputs": [],
   "source": [
    "import pandas as pd\n",
    "import matplotlib.pyplot as plt"
   ]
  },
  {
   "cell_type": "code",
   "execution_count": null,
   "metadata": {},
   "outputs": [],
   "source": [
    "for i in range(1,13):\n",
    "    df = pd.read_csv(f'./task_type{i}_start_time.csv')\n",
    "    plt.figure(figsize=(10, 6))\n",
    "    plt.plot(df['date'], df['count'])\n",
    "    plt.title(f'Task Type {i} Start Time')\n",
    "    plt.xlabel('Date')\n",
    "    plt.ylabel('Count')\n",
    "    plt.savefig(f'./task_type{i}_start_time.png')\n",
    "    df.columns = ['date', 'count']\n",
    "    df.to_csv(f'./task_type{i}_start_time.csv', index=False)"
   ]
  },
  {
   "cell_type": "code",
   "execution_count": null,
   "metadata": {},
   "outputs": [],
   "source": [
    "df_1 = pd.read_csv('/home/antigone/cluster-trace-predict/ClusterTracePredictModule/dataset/cluster_trace_2018/statisticsByCoreTimePreFrame/dataSampleFrame25s/task_type1_core_time_pre_frame.csv')\n",
    "df_1.columns = ['date', 'count']\n",
    "df_1 = df_1[(df_1['date'] >=86400 ) & (df_1['date'] < 691200)]\n",
    "df_1.to_csv('/home/antigone/cluster-trace-predict/ClusterTracePredictModule/dataset/cluster_trace_2018/statisticsByCoreTimePreFrame/dataSampleFrame25s/task_type1_CTPF_10_60.csv', index=False)"
   ]
  },
  {
   "cell_type": "code",
   "execution_count": 7,
   "metadata": {},
   "outputs": [
    {
     "name": "stdout",
     "output_type": "stream",
     "text": [
      "                     date       count\n",
      "4000  2018-01-02 03:46:40  9971628.50\n",
      "4001  2018-01-02 03:47:05  8676276.75\n",
      "4002  2018-01-02 03:47:30  7398436.00\n",
      "4003  2018-01-02 03:47:55  7398221.25\n",
      "4004  2018-01-02 03:48:20  8456387.50\n"
     ]
    }
   ],
   "source": [
    "start_time = pd.to_datetime('2018-1-1 00:00:00')\n",
    "df_1['date'] = pd.to_datetime(df_1['date'], unit='s', origin=start_time)\n",
    "\n",
    "# 将 datetime 对象转换为指定格式的字符串\n",
    "df_1['date'] = df_1['date'].dt.strftime('%Y-%m-%d %H:%M:%S')\n",
    "print(df_1.head())\n",
    "df_1.to_csv('/home/antigone/cluster-trace-predict/ClusterTracePredictModule/dataset/cluster_trace_2018/statisticsByCoreTimePreFrame/dataSampleFrame25s/task_type1_CTPF_10_60_date.csv', index=False)"
   ]
  },
  {
   "cell_type": "code",
   "execution_count": null,
   "metadata": {},
   "outputs": [],
   "source": [
    "plt.figure(figsize=(10, 6))\n",
    "plt.plot(df_1['date'], df_1['count'])\n",
    "plt.title('Task Type 1 Start Time')\n",
    "plt.xlabel('Date')\n",
    "plt.ylabel('Count')\n",
    "plt.show()"
   ]
  },
  {
   "cell_type": "code",
   "execution_count": null,
   "metadata": {},
   "outputs": [],
   "source": [
    "import pandas as pd\n",
    "type = range(1, 13)\n",
    "for i in type:\n",
    "    df = pd.read_csv(f'./task_type{i}_start_time.csv')\n",
    "    df = df[(df['date'] >= 86400) & (df['date'] < 691200)]\n",
    "    start_time = pd.to_datetime('2018-1-1 00:00:00')\n",
    "    df['date'] = pd.to_datetime(df['date'], unit='s', origin=start_time)\n",
    "    df['date'] = df['date'].dt.strftime('%Y-%m-%d %H:%M:%S')\n",
    "    df.columns = ['date', 'count']\n",
    "    df.to_csv(f'./task_type{i}_start_time_10_60_date.csv', index=False)"
   ]
  },
  {
   "cell_type": "code",
   "execution_count": null,
   "metadata": {},
   "outputs": [],
   "source": [
    "print(df.head())"
   ]
  },
  {
   "cell_type": "code",
   "execution_count": null,
   "metadata": {},
   "outputs": [],
   "source": [
    "# task_types = list(range(1, 13))\n",
    "task_types = [1]\n",
    "task_type = 1\n",
    "frame_time_list = [1, 5, 10,15, 25]\n",
    "frame_time = 1\n",
    "\n",
    "for task_type in task_types:\n",
    "    for frame_time in frame_time_list:\n",
    "        file_path = f\"/home/antigone/cluster-trace-predict/ClusterTracePredictModule/dataset/cluster_trace_2018/statisticsByCoreTimePreFrame/dataSampleFrame{frame_time}s/statisiticByCoreTimePreFrame/task_type1_core_time_pre_frame_multiprocess.csv\"\n",
    "        save_path = f\"/home/antigone/cluster-trace-predict/ClusterTracePredictModule/dataset/cluster_trace_2018/statisticsByCoreTimePreFrame/dataSampleFrame{frame_time}s/statisiticByCoreTimePreFrame/task_type{task_type}_CTPF_8640_6912_date.csv\"\n",
    "        df = pd.read_csv(file_path)\n",
    "        df.columns = ['date', 'count']\n",
    "        df = df[(df['date'] >= 86400) & (df['date'] < 691200)]\n",
    "        start_time = pd.to_datetime('2024-10-28 00:00:00')\n",
    "        df['date'] = pd.to_datetime(df['date'], unit='s', origin=start_time)\n",
    "        df['date'] = df['date'].dt.strftime('%Y-%m-%d %H:%M:%S')\n",
    "        df.columns = ['date', 'count']\n",
    "        df.to_csv(save_path, index=False)\n"
   ]
  }
 ],
 "metadata": {
  "kernelspec": {
   "display_name": "TSLib",
   "language": "python",
   "name": "python3"
  },
  "language_info": {
   "codemirror_mode": {
    "name": "ipython",
    "version": 3
   },
   "file_extension": ".py",
   "mimetype": "text/x-python",
   "name": "python",
   "nbconvert_exporter": "python",
   "pygments_lexer": "ipython3",
   "version": "3.8.19"
  }
 },
 "nbformat": 4,
 "nbformat_minor": 2
}
